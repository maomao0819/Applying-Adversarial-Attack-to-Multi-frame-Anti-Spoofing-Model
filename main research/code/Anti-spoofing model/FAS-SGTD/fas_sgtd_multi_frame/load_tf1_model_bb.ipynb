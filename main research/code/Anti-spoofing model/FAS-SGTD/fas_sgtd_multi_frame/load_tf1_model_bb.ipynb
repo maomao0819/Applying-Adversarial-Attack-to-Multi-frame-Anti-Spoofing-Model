{
 "cells": [
  {
   "cell_type": "code",
   "execution_count": 1,
   "metadata": {},
   "outputs": [],
   "source": [
    "from easydict import EasyDict as edict\n",
    "import numpy as np\n",
    "#from tensorflow.python.keras.backend import set_session\n",
    "#from tensorflow.python.keras.models import load_model"
   ]
  },
  {
   "cell_type": "code",
   "execution_count": 2,
   "metadata": {},
   "outputs": [],
   "source": [
    "#import tensorflow as tf\n",
    "import os\n",
    "#os.environ[\"CUDA_VISIBLE_DEVICES\"]=\"1\"\n",
    "import tensorflow.compat.v1 as tf\n",
    "tf.disable_eager_execution()\n",
    "#tf.disable_v2_behavior()\n",
    "from generate_network import generate_network as model_fn\n",
    "\n",
    "test_config = tf.compat.v1.ConfigProto(device_count = {'GPU': 1}, allow_soft_placement=True, log_device_placement=True)\n",
    "test_config.gpu_options.allow_growth=True "
   ]
  },
  {
   "cell_type": "code",
   "execution_count": 3,
   "metadata": {},
   "outputs": [],
   "source": [
    "from generate_data_test_without_blank_depth import input_fn_maker\n",
    "#from generate_data_train_without_blank_depth import input_fn_maker\n",
    "\n",
    "test_file=['/mnt/sda1/mike/OULU-NPU/One_video_frame', '/mnt/sda1/mike/OULU-NPU/One_video_depth']\n",
    "test_data_list=[test_file]\n",
    "\n",
    "eval_input_fn = lambda: input_fn_maker(test_data_list, shuffle=False, \n",
    "                                batch_size = 1,\n",
    "                                epoch=1)"
   ]
  },
  {
   "cell_type": "code",
   "execution_count": 4,
   "metadata": {},
   "outputs": [
    {
     "name": "stdout",
     "output_type": "stream",
     "text": [
      "WARNING:tensorflow:From /mnt/sda1/maomao/FAS-SGTD/fas_sgtd_multi_frame/generate_data_test_without_blank_depth.py:339: calling DatasetV2.from_generator (from tensorflow.python.data.ops.dataset_ops) with output_types is deprecated and will be removed in a future version.\n",
      "Instructions for updating:\n",
      "Use output_signature instead\n",
      "WARNING:tensorflow:From /mnt/sda1/maomao/FAS-SGTD/fas_sgtd_multi_frame/generate_data_test_without_blank_depth.py:314: py_func (from tensorflow.python.ops.script_ops) is deprecated and will be removed in a future version.\n",
      "Instructions for updating:\n",
      "tf.py_func is deprecated in TF V2. Instead, there are two\n",
      "    options available in V2.\n",
      "    - tf.py_function takes a python function which manipulates tf eager\n",
      "    tensors instead of numpy arrays. It's easy to convert a tf eager tensor to\n",
      "    an ndarray (just call tensor.numpy()) but having access to eager tensors\n",
      "    means `tf.py_function`s can use accelerators such as GPUs as well as\n",
      "    being differentiable using a gradient tape.\n",
      "    - tf.numpy_function maintains the semantics of the deprecated tf.py_func\n",
      "    (it is not differentiable, and manipulates numpy arrays). It drops the\n",
      "    stateful argument making all functions stateful.\n",
      "    \n"
     ]
    }
   ],
   "source": [
    "data = input_fn_maker(test_data_list, shuffle=False, \n",
    "                                batch_size = 1,\n",
    "                                epoch=1)"
   ]
  },
  {
   "cell_type": "code",
   "execution_count": 5,
   "metadata": {},
   "outputs": [
    {
     "name": "stdout",
     "output_type": "stream",
     "text": [
      "['images', 'maps', 'masks', 'labels']\n"
     ]
    }
   ],
   "source": [
    "print(list(data))"
   ]
  },
  {
   "cell_type": "code",
   "execution_count": 6,
   "metadata": {},
   "outputs": [
    {
     "name": "stdout",
     "output_type": "stream",
     "text": [
      "{'images': <tf.Tensor 'IteratorGetNext:0' shape=(None, 256, 256, 15) dtype=float32>, 'maps': <tf.Tensor 'IteratorGetNext:2' shape=(None, 32, 32, 5) dtype=float32>, 'masks': <tf.Tensor 'IteratorGetNext:3' shape=(None, 32, 32, 5) dtype=float32>, 'labels': <tf.Tensor 'IteratorGetNext:1' shape=(None, 1) dtype=int32>}\n"
     ]
    }
   ],
   "source": [
    "print(data)"
   ]
  },
  {
   "cell_type": "code",
   "execution_count": 7,
   "metadata": {},
   "outputs": [
    {
     "name": "stdout",
     "output_type": "stream",
     "text": [
      "(None, 256, 256, 15)\n",
      "<class 'tensorflow.python.framework.ops.Tensor'>\n",
      "(None, 32, 32, 5)\n",
      "<class 'tensorflow.python.framework.ops.Tensor'>\n",
      "(None, 32, 32, 5)\n",
      "<class 'tensorflow.python.framework.ops.Tensor'>\n",
      "(None, 1)\n",
      "<class 'tensorflow.python.framework.ops.Tensor'>\n"
     ]
    }
   ],
   "source": [
    "print((data['images'].shape))\n",
    "print(type(data['images']))\n",
    "print((data['maps'].shape))\n",
    "print(type(data['maps']))\n",
    "print((data['masks'].shape))\n",
    "print(type(data['masks']))\n",
    "print((data['labels'].shape))\n",
    "print(type(data['labels']))"
   ]
  },
  {
   "cell_type": "code",
   "execution_count": 8,
   "metadata": {},
   "outputs": [
    {
     "name": "stdout",
     "output_type": "stream",
     "text": [
      "tensor: ConvLSTMNet/cell_1/conv_gru_cell/candidate/bias (float32) [64]\n",
      "tensor: ConvLSTMNet/cell_1/conv_gru_cell/candidate/bias/Adadelta (float32) [64]\n",
      "tensor: ConvLSTMNet/cell_1/conv_gru_cell/candidate/bias/Adadelta_1 (float32) [64]\n",
      "tensor: ConvLSTMNet/cell_1/conv_gru_cell/candidate/kernel (float32) [3, 3, 192, 64]\n",
      "tensor: ConvLSTMNet/cell_1/conv_gru_cell/candidate/kernel/Adadelta (float32) [3, 3, 192, 64]\n",
      "tensor: ConvLSTMNet/cell_1/conv_gru_cell/candidate/kernel/Adadelta_1 (float32) [3, 3, 192, 64]\n",
      "tensor: ConvLSTMNet/cell_1/conv_gru_cell/gates/bias (float32) [128]\n",
      "tensor: ConvLSTMNet/cell_1/conv_gru_cell/gates/bias/Adadelta (float32) [128]\n",
      "tensor: ConvLSTMNet/cell_1/conv_gru_cell/gates/bias/Adadelta_1 (float32) [128]\n",
      "tensor: ConvLSTMNet/cell_1/conv_gru_cell/gates/kernel (float32) [3, 3, 192, 128]\n",
      "tensor: ConvLSTMNet/cell_1/conv_gru_cell/gates/kernel/Adadelta (float32) [3, 3, 192, 128]\n",
      "tensor: ConvLSTMNet/cell_1/conv_gru_cell/gates/kernel/Adadelta_1 (float32) [3, 3, 192, 128]\n",
      "tensor: ConvLSTMNet/cell_2/conv_gru_cell/candidate/bias (float32) [1]\n",
      "tensor: ConvLSTMNet/cell_2/conv_gru_cell/candidate/bias/Adadelta (float32) [1]\n",
      "tensor: ConvLSTMNet/cell_2/conv_gru_cell/candidate/bias/Adadelta_1 (float32) [1]\n",
      "tensor: ConvLSTMNet/cell_2/conv_gru_cell/candidate/kernel (float32) [3, 3, 65, 1]\n",
      "tensor: ConvLSTMNet/cell_2/conv_gru_cell/candidate/kernel/Adadelta (float32) [3, 3, 65, 1]\n",
      "tensor: ConvLSTMNet/cell_2/conv_gru_cell/candidate/kernel/Adadelta_1 (float32) [3, 3, 65, 1]\n",
      "tensor: ConvLSTMNet/cell_2/conv_gru_cell/gates/bias (float32) [2]\n",
      "tensor: ConvLSTMNet/cell_2/conv_gru_cell/gates/bias/Adadelta (float32) [2]\n",
      "tensor: ConvLSTMNet/cell_2/conv_gru_cell/gates/bias/Adadelta_1 (float32) [2]\n",
      "tensor: ConvLSTMNet/cell_2/conv_gru_cell/gates/kernel (float32) [3, 3, 65, 2]\n",
      "tensor: ConvLSTMNet/cell_2/conv_gru_cell/gates/kernel/Adadelta (float32) [3, 3, 65, 2]\n",
      "tensor: ConvLSTMNet/cell_2/conv_gru_cell/gates/kernel/Adadelta_1 (float32) [3, 3, 65, 2]\n",
      "tensor: FaceMapNet/conv4_3/biases (float32) [1]\n",
      "tensor: FaceMapNet/conv4_3/weights (float32) [3, 3, 64, 1]\n",
      "tensor: FaceMapNet/rgc1_1/conv/biases (float32) [128]\n",
      "tensor: FaceMapNet/rgc1_1/conv/weights (float32) [3, 3, 64, 128]\n",
      "tensor: FaceMapNet/rgc1_1/gabor_bn/beta (float32) [128]\n",
      "tensor: FaceMapNet/rgc1_1/gabor_bn/moving_mean (float32) [128]\n",
      "tensor: FaceMapNet/rgc1_1/gabor_bn/moving_variance (float32) [128]\n",
      "tensor: FaceMapNet/rgc1_1/gn/beta (float32) [128]\n",
      "tensor: FaceMapNet/rgc1_1/gn/moving_mean (float32) [128]\n",
      "tensor: FaceMapNet/rgc1_1/gn/moving_variance (float32) [128]\n",
      "tensor: FaceMapNet/rgc1_1/rgc_pw_gabor/biases (float32) [128]\n",
      "tensor: FaceMapNet/rgc1_1/rgc_pw_gabor/weights (float32) [1, 1, 64, 128]\n",
      "tensor: FaceMapNet/rgc1_2/conv/biases (float32) [192]\n",
      "tensor: FaceMapNet/rgc1_2/conv/weights (float32) [3, 3, 128, 192]\n",
      "tensor: FaceMapNet/rgc1_2/gabor_bn/beta (float32) [192]\n",
      "tensor: FaceMapNet/rgc1_2/gabor_bn/moving_mean (float32) [192]\n",
      "tensor: FaceMapNet/rgc1_2/gabor_bn/moving_variance (float32) [192]\n",
      "tensor: FaceMapNet/rgc1_2/gn/beta (float32) [192]\n",
      "tensor: FaceMapNet/rgc1_2/gn/moving_mean (float32) [192]\n",
      "tensor: FaceMapNet/rgc1_2/gn/moving_variance (float32) [192]\n",
      "tensor: FaceMapNet/rgc1_2/rgc_pw_gabor/biases (float32) [192]\n",
      "tensor: FaceMapNet/rgc1_2/rgc_pw_gabor/weights (float32) [1, 1, 128, 192]\n",
      "tensor: FaceMapNet/rgc1_3/conv/biases (float32) [128]\n",
      "tensor: FaceMapNet/rgc1_3/conv/weights (float32) [3, 3, 192, 128]\n",
      "tensor: FaceMapNet/rgc1_3/gabor_bn/beta (float32) [128]\n",
      "tensor: FaceMapNet/rgc1_3/gabor_bn/moving_mean (float32) [128]\n",
      "tensor: FaceMapNet/rgc1_3/gabor_bn/moving_variance (float32) [128]\n",
      "tensor: FaceMapNet/rgc1_3/gn/beta (float32) [128]\n",
      "tensor: FaceMapNet/rgc1_3/gn/moving_mean (float32) [128]\n",
      "tensor: FaceMapNet/rgc1_3/gn/moving_variance (float32) [128]\n",
      "tensor: FaceMapNet/rgc1_3/rgc_pw_gabor/biases (float32) [128]\n",
      "tensor: FaceMapNet/rgc1_3/rgc_pw_gabor/weights (float32) [1, 1, 192, 128]\n",
      "tensor: FaceMapNet/rgc2_1/conv/biases (float32) [128]\n",
      "tensor: FaceMapNet/rgc2_1/conv/weights (float32) [3, 3, 128, 128]\n",
      "tensor: FaceMapNet/rgc2_1/gabor_bn/beta (float32) [128]\n",
      "tensor: FaceMapNet/rgc2_1/gabor_bn/moving_mean (float32) [128]\n",
      "tensor: FaceMapNet/rgc2_1/gabor_bn/moving_variance (float32) [128]\n",
      "tensor: FaceMapNet/rgc2_1/gn/beta (float32) [128]\n",
      "tensor: FaceMapNet/rgc2_1/gn/moving_mean (float32) [128]\n",
      "tensor: FaceMapNet/rgc2_1/gn/moving_variance (float32) [128]\n",
      "tensor: FaceMapNet/rgc2_1/rgc_pw_gabor/biases (float32) [128]\n",
      "tensor: FaceMapNet/rgc2_1/rgc_pw_gabor/weights (float32) [1, 1, 128, 128]\n",
      "tensor: FaceMapNet/rgc2_2/conv/biases (float32) [192]\n",
      "tensor: FaceMapNet/rgc2_2/conv/weights (float32) [3, 3, 128, 192]\n",
      "tensor: FaceMapNet/rgc2_2/gabor_bn/beta (float32) [192]\n",
      "tensor: FaceMapNet/rgc2_2/gabor_bn/moving_mean (float32) [192]\n",
      "tensor: FaceMapNet/rgc2_2/gabor_bn/moving_variance (float32) [192]\n",
      "tensor: FaceMapNet/rgc2_2/gn/beta (float32) [192]\n",
      "tensor: FaceMapNet/rgc2_2/gn/moving_mean (float32) [192]\n",
      "tensor: FaceMapNet/rgc2_2/gn/moving_variance (float32) [192]\n",
      "tensor: FaceMapNet/rgc2_2/rgc_pw_gabor/biases (float32) [192]\n",
      "tensor: FaceMapNet/rgc2_2/rgc_pw_gabor/weights (float32) [1, 1, 128, 192]\n",
      "tensor: FaceMapNet/rgc2_3/conv/biases (float32) [128]\n",
      "tensor: FaceMapNet/rgc2_3/conv/weights (float32) [3, 3, 192, 128]\n",
      "tensor: FaceMapNet/rgc2_3/gabor_bn/beta (float32) [128]\n",
      "tensor: FaceMapNet/rgc2_3/gabor_bn/moving_mean (float32) [128]\n",
      "tensor: FaceMapNet/rgc2_3/gabor_bn/moving_variance (float32) [128]\n",
      "tensor: FaceMapNet/rgc2_3/gn/beta (float32) [128]\n",
      "tensor: FaceMapNet/rgc2_3/gn/moving_mean (float32) [128]\n",
      "tensor: FaceMapNet/rgc2_3/gn/moving_variance (float32) [128]\n",
      "tensor: FaceMapNet/rgc2_3/rgc_pw_gabor/biases (float32) [128]\n",
      "tensor: FaceMapNet/rgc2_3/rgc_pw_gabor/weights (float32) [1, 1, 192, 128]\n",
      "tensor: FaceMapNet/rgc3_1/conv/biases (float32) [128]\n",
      "tensor: FaceMapNet/rgc3_1/conv/weights (float32) [3, 3, 128, 128]\n",
      "tensor: FaceMapNet/rgc3_1/gabor_bn/beta (float32) [128]\n",
      "tensor: FaceMapNet/rgc3_1/gabor_bn/moving_mean (float32) [128]\n",
      "tensor: FaceMapNet/rgc3_1/gabor_bn/moving_variance (float32) [128]\n",
      "tensor: FaceMapNet/rgc3_1/gn/beta (float32) [128]\n",
      "tensor: FaceMapNet/rgc3_1/gn/moving_mean (float32) [128]\n",
      "tensor: FaceMapNet/rgc3_1/gn/moving_variance (float32) [128]\n",
      "tensor: FaceMapNet/rgc3_1/rgc_pw_gabor/biases (float32) [128]\n",
      "tensor: FaceMapNet/rgc3_1/rgc_pw_gabor/weights (float32) [1, 1, 128, 128]\n",
      "tensor: FaceMapNet/rgc3_2/conv/biases (float32) [192]\n",
      "tensor: FaceMapNet/rgc3_2/conv/weights (float32) [3, 3, 128, 192]\n",
      "tensor: FaceMapNet/rgc3_2/gabor_bn/beta (float32) [192]\n",
      "tensor: FaceMapNet/rgc3_2/gabor_bn/moving_mean (float32) [192]\n",
      "tensor: FaceMapNet/rgc3_2/gabor_bn/moving_variance (float32) [192]\n",
      "tensor: FaceMapNet/rgc3_2/gn/beta (float32) [192]\n",
      "tensor: FaceMapNet/rgc3_2/gn/moving_mean (float32) [192]\n",
      "tensor: FaceMapNet/rgc3_2/gn/moving_variance (float32) [192]\n",
      "tensor: FaceMapNet/rgc3_2/rgc_pw_gabor/biases (float32) [192]\n",
      "tensor: FaceMapNet/rgc3_2/rgc_pw_gabor/weights (float32) [1, 1, 128, 192]\n",
      "tensor: FaceMapNet/rgc3_3/conv/biases (float32) [128]\n",
      "tensor: FaceMapNet/rgc3_3/conv/weights (float32) [3, 3, 192, 128]\n",
      "tensor: FaceMapNet/rgc3_3/gabor_bn/beta (float32) [128]\n",
      "tensor: FaceMapNet/rgc3_3/gabor_bn/moving_mean (float32) [128]\n",
      "tensor: FaceMapNet/rgc3_3/gabor_bn/moving_variance (float32) [128]\n",
      "tensor: FaceMapNet/rgc3_3/gn/beta (float32) [128]\n",
      "tensor: FaceMapNet/rgc3_3/gn/moving_mean (float32) [128]\n",
      "tensor: FaceMapNet/rgc3_3/gn/moving_variance (float32) [128]\n",
      "tensor: FaceMapNet/rgc3_3/rgc_pw_gabor/biases (float32) [128]\n",
      "tensor: FaceMapNet/rgc3_3/rgc_pw_gabor/weights (float32) [1, 1, 192, 128]\n",
      "tensor: FaceMapNet/rgc4_1/conv/biases (float32) [128]\n",
      "tensor: FaceMapNet/rgc4_1/conv/weights (float32) [3, 3, 384, 128]\n",
      "tensor: FaceMapNet/rgc4_1/gabor_bn/beta (float32) [128]\n",
      "tensor: FaceMapNet/rgc4_1/gabor_bn/moving_mean (float32) [128]\n",
      "tensor: FaceMapNet/rgc4_1/gabor_bn/moving_variance (float32) [128]\n",
      "tensor: FaceMapNet/rgc4_1/gn/beta (float32) [128]\n",
      "tensor: FaceMapNet/rgc4_1/gn/moving_mean (float32) [128]\n",
      "tensor: FaceMapNet/rgc4_1/gn/moving_variance (float32) [128]\n",
      "tensor: FaceMapNet/rgc4_1/rgc_pw_gabor/biases (float32) [128]\n",
      "tensor: FaceMapNet/rgc4_1/rgc_pw_gabor/weights (float32) [1, 1, 384, 128]\n",
      "tensor: FaceMapNet/rgc4_2/conv/biases (float32) [64]\n",
      "tensor: FaceMapNet/rgc4_2/conv/weights (float32) [3, 3, 128, 64]\n",
      "tensor: FaceMapNet/rgc4_2/gabor_bn/beta (float32) [64]\n",
      "tensor: FaceMapNet/rgc4_2/gabor_bn/moving_mean (float32) [64]\n",
      "tensor: FaceMapNet/rgc4_2/gabor_bn/moving_variance (float32) [64]\n",
      "tensor: FaceMapNet/rgc4_2/gn/beta (float32) [64]\n",
      "tensor: FaceMapNet/rgc4_2/gn/moving_mean (float32) [64]\n",
      "tensor: FaceMapNet/rgc4_2/gn/moving_variance (float32) [64]\n",
      "tensor: FaceMapNet/rgc4_2/rgc_pw_gabor/biases (float32) [64]\n",
      "tensor: FaceMapNet/rgc4_2/rgc_pw_gabor/weights (float32) [1, 1, 128, 64]\n",
      "tensor: FaceMapNet/rgc_init/conv/biases (float32) [64]\n",
      "tensor: FaceMapNet/rgc_init/conv/weights (float32) [3, 3, 3, 64]\n",
      "tensor: FaceMapNet/rgc_init/gabor_bn/beta (float32) [64]\n",
      "tensor: FaceMapNet/rgc_init/gabor_bn/moving_mean (float32) [64]\n",
      "tensor: FaceMapNet/rgc_init/gabor_bn/moving_variance (float32) [64]\n",
      "tensor: FaceMapNet/rgc_init/gn/beta (float32) [64]\n",
      "tensor: FaceMapNet/rgc_init/gn/moving_mean (float32) [64]\n",
      "tensor: FaceMapNet/rgc_init/gn/moving_variance (float32) [64]\n",
      "tensor: FaceMapNet/rgc_init/rgc_pw_gabor/biases (float32) [64]\n",
      "tensor: FaceMapNet/rgc_init/rgc_pw_gabor/weights (float32) [1, 1, 3, 64]\n",
      "tensor: OFFNet/OFFNet_bn_1_off/beta (float32) [32]\n",
      "tensor: OFFNet/OFFNet_bn_1_off/beta/Adadelta (float32) [32]\n",
      "tensor: OFFNet/OFFNet_bn_1_off/beta/Adadelta_1 (float32) [32]\n",
      "tensor: OFFNet/OFFNet_bn_1_off/moving_mean (float32) [32]\n",
      "tensor: OFFNet/OFFNet_bn_1_off/moving_variance (float32) [32]\n",
      "tensor: OFFNet/OFFNet_bn_2_off/beta (float32) [32]\n",
      "tensor: OFFNet/OFFNet_bn_2_off/beta/Adadelta (float32) [32]\n",
      "tensor: OFFNet/OFFNet_bn_2_off/beta/Adadelta_1 (float32) [32]\n",
      "tensor: OFFNet/OFFNet_bn_2_off/moving_mean (float32) [32]\n",
      "tensor: OFFNet/OFFNet_bn_2_off/moving_variance (float32) [32]\n",
      "tensor: OFFNet/OFFNet_bn_3_off/beta (float32) [32]\n",
      "tensor: OFFNet/OFFNet_bn_3_off/beta/Adadelta (float32) [32]\n",
      "tensor: OFFNet/OFFNet_bn_3_off/beta/Adadelta_1 (float32) [32]\n",
      "tensor: OFFNet/OFFNet_bn_3_off/moving_mean (float32) [32]\n",
      "tensor: OFFNet/OFFNet_bn_3_off/moving_variance (float32) [32]\n",
      "tensor: OFFNet/OFFNet_bn_4_1/beta (float32) [128]\n",
      "tensor: OFFNet/OFFNet_bn_4_1/beta/Adadelta (float32) [128]\n",
      "tensor: OFFNet/OFFNet_bn_4_1/beta/Adadelta_1 (float32) [128]\n",
      "tensor: OFFNet/OFFNet_bn_4_1/moving_mean (float32) [128]\n",
      "tensor: OFFNet/OFFNet_bn_4_1/moving_variance (float32) [128]\n",
      "tensor: OFFNet/OFFNet_conv_1_off/biases (float32) [32]\n",
      "tensor: OFFNet/OFFNet_conv_1_off/biases/Adadelta (float32) [32]\n",
      "tensor: OFFNet/OFFNet_conv_1_off/biases/Adadelta_1 (float32) [32]\n",
      "tensor: OFFNet/OFFNet_conv_1_off/weights (float32) [1, 1, 128, 32]\n",
      "tensor: OFFNet/OFFNet_conv_1_off/weights/Adadelta (float32) [1, 1, 128, 32]\n",
      "tensor: OFFNet/OFFNet_conv_1_off/weights/Adadelta_1 (float32) [1, 1, 128, 32]\n",
      "tensor: OFFNet/OFFNet_conv_2_off/biases (float32) [32]\n",
      "tensor: OFFNet/OFFNet_conv_2_off/biases/Adadelta (float32) [32]\n",
      "tensor: OFFNet/OFFNet_conv_2_off/biases/Adadelta_1 (float32) [32]\n",
      "tensor: OFFNet/OFFNet_conv_2_off/weights (float32) [1, 1, 128, 32]\n",
      "tensor: OFFNet/OFFNet_conv_2_off/weights/Adadelta (float32) [1, 1, 128, 32]\n",
      "tensor: OFFNet/OFFNet_conv_2_off/weights/Adadelta_1 (float32) [1, 1, 128, 32]\n",
      "tensor: OFFNet/OFFNet_conv_3_off/biases (float32) [32]\n",
      "tensor: OFFNet/OFFNet_conv_3_off/biases/Adadelta (float32) [32]\n",
      "tensor: OFFNet/OFFNet_conv_3_off/biases/Adadelta_1 (float32) [32]\n",
      "tensor: OFFNet/OFFNet_conv_3_off/weights (float32) [1, 1, 128, 32]\n",
      "tensor: OFFNet/OFFNet_conv_3_off/weights/Adadelta (float32) [1, 1, 128, 32]\n",
      "tensor: OFFNet/OFFNet_conv_3_off/weights/Adadelta_1 (float32) [1, 1, 128, 32]\n",
      "tensor: OFFNet/OFFNet_conv_4_1/biases (float32) [128]\n",
      "tensor: OFFNet/OFFNet_conv_4_1/biases/Adadelta (float32) [128]\n",
      "tensor: OFFNet/OFFNet_conv_4_1/biases/Adadelta_1 (float32) [128]\n",
      "tensor: OFFNet/OFFNet_conv_4_1/weights (float32) [3, 3, 128, 128]\n",
      "tensor: OFFNet/OFFNet_conv_4_1/weights/Adadelta (float32) [3, 3, 128, 128]\n",
      "tensor: OFFNet/OFFNet_conv_4_1/weights/Adadelta_1 (float32) [3, 3, 128, 128]\n",
      "tensor: OFFNet/OFFNet_linear_1_off/biases (float32) [128]\n",
      "tensor: OFFNet/OFFNet_linear_1_off/biases/Adadelta (float32) [128]\n",
      "tensor: OFFNet/OFFNet_linear_1_off/biases/Adadelta_1 (float32) [128]\n",
      "tensor: OFFNet/OFFNet_linear_1_off/weights (float32) [3, 3, 288, 128]\n",
      "tensor: OFFNet/OFFNet_linear_1_off/weights/Adadelta (float32) [3, 3, 288, 128]\n",
      "tensor: OFFNet/OFFNet_linear_1_off/weights/Adadelta_1 (float32) [3, 3, 288, 128]\n",
      "tensor: OFFNet/OFFNet_linear_2_off/biases (float32) [128]\n",
      "tensor: OFFNet/OFFNet_linear_2_off/biases/Adadelta (float32) [128]\n",
      "tensor: OFFNet/OFFNet_linear_2_off/biases/Adadelta_1 (float32) [128]\n",
      "tensor: OFFNet/OFFNet_linear_2_off/weights (float32) [3, 3, 288, 128]\n",
      "tensor: OFFNet/OFFNet_linear_2_off/weights/Adadelta (float32) [3, 3, 288, 128]\n",
      "tensor: OFFNet/OFFNet_linear_2_off/weights/Adadelta_1 (float32) [3, 3, 288, 128]\n",
      "tensor: OFFNet/OFFNet_linear_3_off/biases (float32) [128]\n",
      "tensor: OFFNet/OFFNet_linear_3_off/biases/Adadelta (float32) [128]\n",
      "tensor: OFFNet/OFFNet_linear_3_off/biases/Adadelta_1 (float32) [128]\n",
      "tensor: OFFNet/OFFNet_linear_3_off/weights (float32) [3, 3, 288, 128]\n",
      "tensor: OFFNet/OFFNet_linear_3_off/weights/Adadelta (float32) [3, 3, 288, 128]\n",
      "tensor: OFFNet/OFFNet_linear_3_off/weights/Adadelta_1 (float32) [3, 3, 288, 128]\n",
      "tensor: OFFNet/cascade_bn_1/beta (float32) [128]\n",
      "tensor: OFFNet/cascade_bn_1/beta/Adadelta (float32) [128]\n",
      "tensor: OFFNet/cascade_bn_1/beta/Adadelta_1 (float32) [128]\n",
      "tensor: OFFNet/cascade_bn_1/moving_mean (float32) [128]\n",
      "tensor: OFFNet/cascade_bn_1/moving_variance (float32) [128]\n",
      "tensor: OFFNet/cascade_bn_2/beta (float32) [128]\n",
      "tensor: OFFNet/cascade_bn_2/beta/Adadelta (float32) [128]\n",
      "tensor: OFFNet/cascade_bn_2/beta/Adadelta_1 (float32) [128]\n",
      "tensor: OFFNet/cascade_bn_2/moving_mean (float32) [128]\n",
      "tensor: OFFNet/cascade_bn_2/moving_variance (float32) [128]\n",
      "tensor: OFFNet/cascade_conv_1/biases (float32) [128]\n",
      "tensor: OFFNet/cascade_conv_1/biases/Adadelta (float32) [128]\n",
      "tensor: OFFNet/cascade_conv_1/biases/Adadelta_1 (float32) [128]\n",
      "tensor: OFFNet/cascade_conv_1/weights (float32) [3, 3, 256, 128]\n",
      "tensor: OFFNet/cascade_conv_1/weights/Adadelta (float32) [3, 3, 256, 128]\n",
      "tensor: OFFNet/cascade_conv_1/weights/Adadelta_1 (float32) [3, 3, 256, 128]\n",
      "tensor: OFFNet/cascade_conv_2/biases (float32) [128]\n",
      "tensor: OFFNet/cascade_conv_2/biases/Adadelta (float32) [128]\n",
      "tensor: OFFNet/cascade_conv_2/biases/Adadelta_1 (float32) [128]\n",
      "tensor: OFFNet/cascade_conv_2/weights (float32) [3, 3, 256, 128]\n",
      "tensor: OFFNet/cascade_conv_2/weights/Adadelta (float32) [3, 3, 256, 128]\n",
      "tensor: OFFNet/cascade_conv_2/weights/Adadelta_1 (float32) [3, 3, 256, 128]\n",
      "tensor: SoftmaxNet/fc/fc_1/biases (float32) [64]\n",
      "tensor: SoftmaxNet/fc/fc_1/biases/Adadelta (float32) [64]\n",
      "tensor: SoftmaxNet/fc/fc_1/biases/Adadelta_1 (float32) [64]\n",
      "tensor: SoftmaxNet/fc/fc_1/weights (float32) [1024, 64]\n",
      "tensor: SoftmaxNet/fc/fc_1/weights/Adadelta (float32) [1024, 64]\n",
      "tensor: SoftmaxNet/fc/fc_1/weights/Adadelta_1 (float32) [1024, 64]\n",
      "tensor: SoftmaxNet/fc/fc_2/biases (float32) [2]\n",
      "tensor: SoftmaxNet/fc/fc_2/biases/Adadelta (float32) [2]\n",
      "tensor: SoftmaxNet/fc/fc_2/biases/Adadelta_1 (float32) [2]\n",
      "tensor: SoftmaxNet/fc/fc_2/weights (float32) [64, 2]\n",
      "tensor: SoftmaxNet/fc/fc_2/weights/Adadelta (float32) [64, 2]\n",
      "tensor: SoftmaxNet/fc/fc_2/weights/Adadelta_1 (float32) [64, 2]\n",
      "tensor: global_step (int64) []\n",
      "# Total number of params: 8910946\n"
     ]
    }
   ],
   "source": [
    "from tensorflow.python.tools.inspect_checkpoint import print_tensors_in_checkpoint_file\n",
    "\n",
    "#latest_ckp = tf.train.latest_checkpoint('model.ckpt-19501')\n",
    "print_tensors_in_checkpoint_file(file_name=os.path.join('model_github_backup', 'model.ckpt-19501'), tensor_name='', all_tensors=False, all_tensor_names=True)"
   ]
  },
  {
   "cell_type": "code",
   "execution_count": 9,
   "metadata": {},
   "outputs": [],
   "source": [
    "# GPU config\n",
    "# config = tf.ConfigProto()  \n",
    "config = tf.compat.v1.ConfigProto()\n",
    "config.gpu_options.allow_growth=True \n",
    "\n",
    "#sess = tf.compat.v1.Session(config=config)\n",
    "\n",
    "# # create estimator\n",
    "this_config=tf.estimator.RunConfig(\n",
    "    save_summary_steps=10000000000,\n",
    "    save_checkpoints_steps=None,\n",
    "    keep_checkpoint_max=1024,\n",
    "    log_step_count_steps=None,\n",
    "    session_config=config)\n",
    "\n",
    "# model fn\n",
    "model_fn_this=model_fn\n",
    "\n",
    "# model_dir\n",
    "inference_model_dir = 'model_github_backup/'"
   ]
  },
  {
   "cell_type": "code",
   "execution_count": 10,
   "metadata": {},
   "outputs": [
    {
     "name": "stdout",
     "output_type": "stream",
     "text": [
      "INFO:tensorflow:Using config: {'_model_dir': 'model_github_backup/', '_tf_random_seed': None, '_save_summary_steps': 10000000000, '_save_checkpoints_steps': None, '_save_checkpoints_secs': None, '_session_config': gpu_options {\n",
      "  allow_growth: true\n",
      "}\n",
      ", '_keep_checkpoint_max': 1024, '_keep_checkpoint_every_n_hours': 10000, '_log_step_count_steps': None, '_train_distribute': None, '_device_fn': None, '_protocol': None, '_eval_distribute': None, '_experimental_distribute': None, '_experimental_max_worker_delay_secs': None, '_session_creation_timeout_secs': 7200, '_checkpoint_save_graph_def': True, '_service': None, '_cluster_spec': ClusterSpec({}), '_task_type': 'worker', '_task_id': 0, '_global_id_in_cluster': 0, '_master': '', '_evaluation_master': '', '_is_chief': True, '_num_ps_replicas': 0, '_num_worker_replicas': 1}\n"
     ]
    }
   ],
   "source": [
    "mnist_classifier = tf.estimator.Estimator(\n",
    "    model_fn=model_fn_this, config=this_config, model_dir=inference_model_dir)"
   ]
  },
  {
   "cell_type": "code",
   "execution_count": 11,
   "metadata": {},
   "outputs": [
    {
     "name": "stdout",
     "output_type": "stream",
     "text": [
      "WARNING:tensorflow:From <ipython-input-11-fae8053e5068>:10: Estimator.export_savedmodel (from tensorflow_estimator.python.estimator.estimator) is deprecated and will be removed in a future version.\n",
      "Instructions for updating:\n",
      "This function has been renamed, use `export_saved_model` instead.\n",
      "INFO:tensorflow:Calling model_fn.\n",
      "(None, 1)\n"
     ]
    },
    {
     "name": "stderr",
     "output_type": "stream",
     "text": [
      "/opt/anaconda3/lib/python3.7/site-packages/tensorflow/python/keras/engine/base_layer_v1.py:1719: UserWarning: `layer.apply` is deprecated and will be removed in a future version. Please use `layer.__call__` method instead.\n",
      "  warnings.warn('`layer.apply` is deprecated and '\n"
     ]
    },
    {
     "name": "stdout",
     "output_type": "stream",
     "text": [
      "WARNING:tensorflow:From /mnt/sda1/maomao/FAS-SGTD/fas_sgtd_multi_frame/generate_network.py:211: dynamic_rnn (from tensorflow.python.ops.rnn) is deprecated and will be removed in a future version.\n",
      "Instructions for updating:\n",
      "Please use `keras.layers.RNN(cell)`, which is equivalent to this API\n"
     ]
    },
    {
     "name": "stderr",
     "output_type": "stream",
     "text": [
      "/opt/anaconda3/lib/python3.7/site-packages/tensorflow/python/keras/legacy_tf_layers/core.py:329: UserWarning: `tf.layers.flatten` is deprecated and will be removed in a future version. Please use `tf.keras.layers.Flatten` instead.\n",
      "  warnings.warn('`tf.layers.flatten` is deprecated and '\n"
     ]
    },
    {
     "name": "stdout",
     "output_type": "stream",
     "text": [
      "isSoftmaxLoss !\n",
      "(None, 32, 32, 1)\n",
      "(None, 32, 32, 1)\n",
      "(None, 32, 32, 1)\n",
      "(None, 32, 32, 1)\n",
      "(None, 32, 32, 1)\n",
      "(None, 32, 32, 1)\n",
      "(None, 32, 32, 1)\n",
      "(None, 32, 32, 1)\n",
      "loss_cla  Tensor(\"loss_cla:0\", shape=(), dtype=float32)\n",
      "loss  Tensor(\"add_13:0\", shape=(), dtype=float32)\n",
      "INFO:tensorflow:Done calling model_fn.\n",
      "WARNING:tensorflow:From /opt/anaconda3/lib/python3.7/site-packages/tensorflow/python/saved_model/signature_def_utils_impl.py:201: build_tensor_info (from tensorflow.python.saved_model.utils_impl) is deprecated and will be removed in a future version.\n",
      "Instructions for updating:\n",
      "This function will only be available through the v1 compatibility library as tf.compat.v1.saved_model.utils.build_tensor_info or tf.compat.v1.saved_model.build_tensor_info.\n",
      "INFO:tensorflow:Signatures INCLUDED in export for Classify: None\n",
      "INFO:tensorflow:Signatures INCLUDED in export for Regress: None\n",
      "INFO:tensorflow:Signatures INCLUDED in export for Predict: ['serving_default']\n",
      "INFO:tensorflow:Signatures INCLUDED in export for Train: None\n",
      "INFO:tensorflow:Signatures INCLUDED in export for Eval: None\n",
      "INFO:tensorflow:Restoring parameters from model_github_backup/model.ckpt-19501\n",
      "INFO:tensorflow:Assets added to graph.\n",
      "INFO:tensorflow:No assets to write.\n",
      "INFO:tensorflow:SavedModel written to: ./saved_model/temp-1618313027/saved_model.pb\n"
     ]
    },
    {
     "data": {
      "text/plain": [
       "b'./saved_model/1618313027'"
      ]
     },
     "execution_count": 11,
     "metadata": {},
     "output_type": "execute_result"
    }
   ],
   "source": [
    "save_path = \"./saved_model/\"\n",
    "\n",
    "feature_spec = {\"images\": tf.placeholder(dtype=tf.float32, shape=[None, 256, 256, 15], name='images'),\n",
    "               \"maps\": tf.placeholder(dtype=tf.float32, shape=[None, 32, 32, 5], name='maps'),\n",
    "               \"masks\": tf.placeholder(dtype=tf.float32, shape=[None, 256, 256, 15], name='masks'),\n",
    "               \"labels\": tf.placeholder(dtype=tf.int32, shape=[None, 1], name='labels')}\n",
    "\n",
    "input_receiver_fn = tf.estimator.export.build_raw_serving_input_receiver_fn(feature_spec)\n",
    "\n",
    "mnist_classifier.export_savedmodel(save_path, input_receiver_fn)"
   ]
  },
  {
   "cell_type": "code",
   "execution_count": 13,
   "metadata": {},
   "outputs": [
    {
     "name": "stdout",
     "output_type": "stream",
     "text": [
      "<class 'tensorflow.python.framework.ops.Tensor'>\n",
      "Dataset Info:\n",
      "----------------------------------------\n",
      "IJCB ijcb_protocal_1 test\n",
      "File Counts: 1\n",
      "----------------------------------------\n",
      "name_pure:  1_1_36_2\n",
      "<class 'numpy.ndarray'>\n"
     ]
    }
   ],
   "source": [
    "print(type(data[\"images\"]))\n",
    "\n",
    "with tf.Session() as sess:\n",
    "    sess.run(tf.global_variables_initializer())\n",
    "    images_np = data[\"images\"].eval()\n",
    "    \n",
    "print(type(images_np))"
   ]
  },
  {
   "cell_type": "code",
   "execution_count": 14,
   "metadata": {},
   "outputs": [],
   "source": [
    "features = mnist_classifier.predict(\n",
    "                input_fn = eval_input_fn,\n",
    "                checkpoint_path = os.path.join(inference_model_dir, 'model.ckpt-19501'))"
   ]
  },
  {
   "cell_type": "code",
   "execution_count": 15,
   "metadata": {},
   "outputs": [
    {
     "name": "stdout",
     "output_type": "stream",
     "text": [
      "INFO:tensorflow:Calling model_fn.\n",
      "(None, 1)\n"
     ]
    },
    {
     "name": "stderr",
     "output_type": "stream",
     "text": [
      "/opt/anaconda3/lib/python3.7/site-packages/tensorflow/python/keras/engine/base_layer_v1.py:1719: UserWarning: `layer.apply` is deprecated and will be removed in a future version. Please use `layer.__call__` method instead.\n",
      "  warnings.warn('`layer.apply` is deprecated and '\n",
      "/opt/anaconda3/lib/python3.7/site-packages/tensorflow/python/keras/legacy_tf_layers/core.py:329: UserWarning: `tf.layers.flatten` is deprecated and will be removed in a future version. Please use `tf.keras.layers.Flatten` instead.\n",
      "  warnings.warn('`tf.layers.flatten` is deprecated and '\n"
     ]
    },
    {
     "name": "stdout",
     "output_type": "stream",
     "text": [
      "isSoftmaxLoss !\n",
      "(None, 32, 32, 1)\n",
      "(None, 32, 32, 1)\n",
      "(None, 32, 32, 1)\n",
      "(None, 32, 32, 1)\n",
      "(None, 32, 32, 1)\n",
      "(None, 32, 32, 1)\n",
      "(None, 32, 32, 1)\n",
      "(None, 32, 32, 1)\n",
      "loss_cla  Tensor(\"loss_cla:0\", shape=(), dtype=float32)\n",
      "loss  Tensor(\"add_13:0\", shape=(), dtype=float32)\n",
      "INFO:tensorflow:Done calling model_fn.\n",
      "INFO:tensorflow:Graph was finalized.\n",
      "INFO:tensorflow:Restoring parameters from model_github_backup/model.ckpt-19501\n",
      "INFO:tensorflow:Running local_init_op.\n",
      "INFO:tensorflow:Done running local_init_op.\n",
      "Dataset Info:\n",
      "----------------------------------------\n",
      "IJCB ijcb_protocal_1 test\n",
      "File Counts: 1\n",
      "----------------------------------------\n",
      "name_pure:  1_1_36_2\n",
      "(1, 1)\n"
     ]
    }
   ],
   "source": [
    "feature = list(features)[0]\n",
    "label = feature['labels']\n",
    "\n",
    "#print(label.shape)\n",
    "#print(label)\n",
    "\n",
    "if label == 0:\n",
    "    label = 1\n",
    "else:\n",
    "    label = 0\n",
    "\n",
    "labels_onehot = np.eye(2)[label]\n",
    "#print(logits)\n",
    "#print(label)\n",
    "#print(labels_onehot)\n",
    "\n",
    "label = np.array(label)\n",
    "label = np.reshape(label,(1,1))\n",
    "print(label.shape)"
   ]
  },
  {
   "cell_type": "markdown",
   "metadata": {},
   "source": [
    "# 算出來了啦幹!!!!!!!!!!!!!!!!!!!!!!!!!!!!!!!!!!!!!!!!!!!!!!!!!!!!!"
   ]
  },
  {
   "cell_type": "code",
   "execution_count": 18,
   "metadata": {},
   "outputs": [
    {
     "name": "stdout",
     "output_type": "stream",
     "text": [
      "INFO:tensorflow:Restoring parameters from ./saved_model/1618313027/variables/variables\n"
     ]
    },
    {
     "ename": "InvalidArgumentError",
     "evalue": "You must feed a value for placeholder tensor 'maps' with dtype float and shape [?,32,32,5]\n\t [[node maps (defined at <ipython-input-18-bc34f4ee8241>:5) ]]\n\nOriginal stack trace for 'maps':\n  File \"/opt/anaconda3/lib/python3.7/runpy.py\", line 193, in _run_module_as_main\n    \"__main__\", mod_spec)\n  File \"/opt/anaconda3/lib/python3.7/runpy.py\", line 85, in _run_code\n    exec(code, run_globals)\n  File \"/opt/anaconda3/lib/python3.7/site-packages/ipykernel_launcher.py\", line 16, in <module>\n    app.launch_new_instance()\n  File \"/opt/anaconda3/lib/python3.7/site-packages/traitlets/config/application.py\", line 845, in launch_instance\n    app.start()\n  File \"/opt/anaconda3/lib/python3.7/site-packages/ipykernel/kernelapp.py\", line 499, in start\n    self.io_loop.start()\n  File \"/opt/anaconda3/lib/python3.7/site-packages/tornado/platform/asyncio.py\", line 132, in start\n    self.asyncio_loop.run_forever()\n  File \"/opt/anaconda3/lib/python3.7/asyncio/base_events.py\", line 538, in run_forever\n    self._run_once()\n  File \"/opt/anaconda3/lib/python3.7/asyncio/base_events.py\", line 1782, in _run_once\n    handle._run()\n  File \"/opt/anaconda3/lib/python3.7/asyncio/events.py\", line 88, in _run\n    self._context.run(self._callback, *self._args)\n  File \"/opt/anaconda3/lib/python3.7/site-packages/tornado/platform/asyncio.py\", line 122, in _handle_events\n    handler_func(fileobj, events)\n  File \"/opt/anaconda3/lib/python3.7/site-packages/tornado/stack_context.py\", line 300, in null_wrapper\n    return fn(*args, **kwargs)\n  File \"/opt/anaconda3/lib/python3.7/site-packages/zmq/eventloop/zmqstream.py\", line 451, in _handle_events\n    self._handle_recv()\n  File \"/opt/anaconda3/lib/python3.7/site-packages/zmq/eventloop/zmqstream.py\", line 480, in _handle_recv\n    self._run_callback(callback, msg)\n  File \"/opt/anaconda3/lib/python3.7/site-packages/zmq/eventloop/zmqstream.py\", line 434, in _run_callback\n    callback(*args, **kwargs)\n  File \"/opt/anaconda3/lib/python3.7/site-packages/tornado/stack_context.py\", line 300, in null_wrapper\n    return fn(*args, **kwargs)\n  File \"/opt/anaconda3/lib/python3.7/site-packages/ipykernel/kernelbase.py\", line 283, in dispatcher\n    return self.dispatch_shell(stream, msg)\n  File \"/opt/anaconda3/lib/python3.7/site-packages/ipykernel/kernelbase.py\", line 233, in dispatch_shell\n    handler(stream, idents, msg)\n  File \"/opt/anaconda3/lib/python3.7/site-packages/ipykernel/kernelbase.py\", line 399, in execute_request\n    user_expressions, allow_stdin)\n  File \"/opt/anaconda3/lib/python3.7/site-packages/ipykernel/ipkernel.py\", line 208, in do_execute\n    res = shell.run_cell(code, store_history=store_history, silent=silent)\n  File \"/opt/anaconda3/lib/python3.7/site-packages/ipykernel/zmqshell.py\", line 537, in run_cell\n    return super(ZMQInteractiveShell, self).run_cell(*args, **kwargs)\n  File \"/opt/anaconda3/lib/python3.7/site-packages/IPython/core/interactiveshell.py\", line 2718, in run_cell\n    interactivity=interactivity, compiler=compiler, result=result)\n  File \"/opt/anaconda3/lib/python3.7/site-packages/IPython/core/interactiveshell.py\", line 2822, in run_ast_nodes\n    if self.run_code(code, result):\n  File \"/opt/anaconda3/lib/python3.7/site-packages/IPython/core/interactiveshell.py\", line 2882, in run_code\n    exec(code_obj, self.user_global_ns, self.user_ns)\n  File \"<ipython-input-18-bc34f4ee8241>\", line 5, in <module>\n    meta_graph_def = tf.saved_model.loader.load(sess, [tf.saved_model.tag_constants.SERVING], model_path)\n  File \"/opt/anaconda3/lib/python3.7/site-packages/tensorflow/python/util/deprecation.py\", line 340, in new_func\n    return func(*args, **kwargs)\n  File \"/opt/anaconda3/lib/python3.7/site-packages/tensorflow/python/saved_model/loader_impl.py\", line 300, in load\n    return loader.load(sess, tags, import_scope, **saver_kwargs)\n  File \"/opt/anaconda3/lib/python3.7/site-packages/tensorflow/python/saved_model/loader_impl.py\", line 453, in load\n    **saver_kwargs)\n  File \"/opt/anaconda3/lib/python3.7/site-packages/tensorflow/python/saved_model/loader_impl.py\", line 383, in load_graph\n    meta_graph_def, import_scope=import_scope, **saver_kwargs)\n  File \"/opt/anaconda3/lib/python3.7/site-packages/tensorflow/python/training/saver.py\", line 1485, in _import_meta_graph_with_return_elements\n    **kwargs))\n  File \"/opt/anaconda3/lib/python3.7/site-packages/tensorflow/python/framework/meta_graph.py\", line 804, in import_scoped_meta_graph_with_return_elements\n    return_elements=return_elements)\n  File \"/opt/anaconda3/lib/python3.7/site-packages/tensorflow/python/util/deprecation.py\", line 538, in new_func\n    return func(*args, **kwargs)\n  File \"/opt/anaconda3/lib/python3.7/site-packages/tensorflow/python/framework/importer.py\", line 405, in import_graph_def\n    producer_op_list=producer_op_list)\n  File \"/opt/anaconda3/lib/python3.7/site-packages/tensorflow/python/framework/importer.py\", line 513, in _import_graph_def_internal\n    _ProcessNewOps(graph)\n  File \"/opt/anaconda3/lib/python3.7/site-packages/tensorflow/python/framework/importer.py\", line 243, in _ProcessNewOps\n    for new_op in graph._add_new_tf_operations(compute_devices=False):  # pylint: disable=protected-access\n  File \"/opt/anaconda3/lib/python3.7/site-packages/tensorflow/python/framework/ops.py\", line 3680, in _add_new_tf_operations\n    for c_op in c_api_util.new_tf_operations(self)\n  File \"/opt/anaconda3/lib/python3.7/site-packages/tensorflow/python/framework/ops.py\", line 3680, in <listcomp>\n    for c_op in c_api_util.new_tf_operations(self)\n  File \"/opt/anaconda3/lib/python3.7/site-packages/tensorflow/python/framework/ops.py\", line 3561, in _create_op_from_tf_operation\n    ret = Operation(c_op, self)\n  File \"/opt/anaconda3/lib/python3.7/site-packages/tensorflow/python/framework/ops.py\", line 1990, in __init__\n    self._traceback = tf_stack.extract_stack()\n",
     "output_type": "error",
     "traceback": [
      "\u001b[0;31m---------------------------------------------------------------------------\u001b[0m",
      "\u001b[0;31mInvalidArgumentError\u001b[0m                      Traceback (most recent call last)",
      "\u001b[0;32m/opt/anaconda3/lib/python3.7/site-packages/tensorflow/python/client/session.py\u001b[0m in \u001b[0;36m_do_call\u001b[0;34m(self, fn, *args)\u001b[0m\n\u001b[1;32m   1374\u001b[0m     \u001b[0;32mtry\u001b[0m\u001b[0;34m:\u001b[0m\u001b[0;34m\u001b[0m\u001b[0;34m\u001b[0m\u001b[0m\n\u001b[0;32m-> 1375\u001b[0;31m       \u001b[0;32mreturn\u001b[0m \u001b[0mfn\u001b[0m\u001b[0;34m(\u001b[0m\u001b[0;34m*\u001b[0m\u001b[0margs\u001b[0m\u001b[0;34m)\u001b[0m\u001b[0;34m\u001b[0m\u001b[0;34m\u001b[0m\u001b[0m\n\u001b[0m\u001b[1;32m   1376\u001b[0m     \u001b[0;32mexcept\u001b[0m \u001b[0merrors\u001b[0m\u001b[0;34m.\u001b[0m\u001b[0mOpError\u001b[0m \u001b[0;32mas\u001b[0m \u001b[0me\u001b[0m\u001b[0;34m:\u001b[0m\u001b[0;34m\u001b[0m\u001b[0;34m\u001b[0m\u001b[0m\n",
      "\u001b[0;32m/opt/anaconda3/lib/python3.7/site-packages/tensorflow/python/client/session.py\u001b[0m in \u001b[0;36m_run_fn\u001b[0;34m(feed_dict, fetch_list, target_list, options, run_metadata)\u001b[0m\n\u001b[1;32m   1359\u001b[0m       return self._call_tf_sessionrun(options, feed_dict, fetch_list,\n\u001b[0;32m-> 1360\u001b[0;31m                                       target_list, run_metadata)\n\u001b[0m\u001b[1;32m   1361\u001b[0m \u001b[0;34m\u001b[0m\u001b[0m\n",
      "\u001b[0;32m/opt/anaconda3/lib/python3.7/site-packages/tensorflow/python/client/session.py\u001b[0m in \u001b[0;36m_call_tf_sessionrun\u001b[0;34m(self, options, feed_dict, fetch_list, target_list, run_metadata)\u001b[0m\n\u001b[1;32m   1452\u001b[0m                                             \u001b[0mfetch_list\u001b[0m\u001b[0;34m,\u001b[0m \u001b[0mtarget_list\u001b[0m\u001b[0;34m,\u001b[0m\u001b[0;34m\u001b[0m\u001b[0;34m\u001b[0m\u001b[0m\n\u001b[0;32m-> 1453\u001b[0;31m                                             run_metadata)\n\u001b[0m\u001b[1;32m   1454\u001b[0m \u001b[0;34m\u001b[0m\u001b[0m\n",
      "\u001b[0;31mInvalidArgumentError\u001b[0m: You must feed a value for placeholder tensor 'maps' with dtype float and shape [?,32,32,5]\n\t [[{{node maps}}]]",
      "\nDuring handling of the above exception, another exception occurred:\n",
      "\u001b[0;31mInvalidArgumentError\u001b[0m                      Traceback (most recent call last)",
      "\u001b[0;32m<ipython-input-18-bc34f4ee8241>\u001b[0m in \u001b[0;36m<module>\u001b[0;34m()\u001b[0m\n\u001b[1;32m     19\u001b[0m     \u001b[0;31m#print(label.shape)\u001b[0m\u001b[0;34m\u001b[0m\u001b[0;34m\u001b[0m\u001b[0;34m\u001b[0m\u001b[0m\n\u001b[1;32m     20\u001b[0m \u001b[0;34m\u001b[0m\u001b[0m\n\u001b[0;32m---> 21\u001b[0;31m     \u001b[0mgrads\u001b[0m \u001b[0;34m=\u001b[0m \u001b[0msess\u001b[0m\u001b[0;34m.\u001b[0m\u001b[0mrun\u001b[0m\u001b[0;34m(\u001b[0m\u001b[0my\u001b[0m\u001b[0;34m,\u001b[0m \u001b[0;34m{\u001b[0m\u001b[0mx\u001b[0m\u001b[0;34m:\u001b[0m \u001b[0mimages_np\u001b[0m\u001b[0;34m,\u001b[0m \u001b[0mlabels\u001b[0m\u001b[0;34m:\u001b[0m \u001b[0mlabel\u001b[0m\u001b[0;34m}\u001b[0m\u001b[0;34m)\u001b[0m\u001b[0;34m\u001b[0m\u001b[0;34m\u001b[0m\u001b[0m\n\u001b[0m\u001b[1;32m     22\u001b[0m     \u001b[0;31m#print(grads)\u001b[0m\u001b[0;34m\u001b[0m\u001b[0;34m\u001b[0m\u001b[0;34m\u001b[0m\u001b[0m\n\u001b[1;32m     23\u001b[0m     \u001b[0;31m#print(grads.shape)\u001b[0m\u001b[0;34m\u001b[0m\u001b[0;34m\u001b[0m\u001b[0;34m\u001b[0m\u001b[0m\n",
      "\u001b[0;32m/opt/anaconda3/lib/python3.7/site-packages/tensorflow/python/client/session.py\u001b[0m in \u001b[0;36mrun\u001b[0;34m(self, fetches, feed_dict, options, run_metadata)\u001b[0m\n\u001b[1;32m    966\u001b[0m     \u001b[0;32mtry\u001b[0m\u001b[0;34m:\u001b[0m\u001b[0;34m\u001b[0m\u001b[0;34m\u001b[0m\u001b[0m\n\u001b[1;32m    967\u001b[0m       result = self._run(None, fetches, feed_dict, options_ptr,\n\u001b[0;32m--> 968\u001b[0;31m                          run_metadata_ptr)\n\u001b[0m\u001b[1;32m    969\u001b[0m       \u001b[0;32mif\u001b[0m \u001b[0mrun_metadata\u001b[0m\u001b[0;34m:\u001b[0m\u001b[0;34m\u001b[0m\u001b[0;34m\u001b[0m\u001b[0m\n\u001b[1;32m    970\u001b[0m         \u001b[0mproto_data\u001b[0m \u001b[0;34m=\u001b[0m \u001b[0mtf_session\u001b[0m\u001b[0;34m.\u001b[0m\u001b[0mTF_GetBuffer\u001b[0m\u001b[0;34m(\u001b[0m\u001b[0mrun_metadata_ptr\u001b[0m\u001b[0;34m)\u001b[0m\u001b[0;34m\u001b[0m\u001b[0;34m\u001b[0m\u001b[0m\n",
      "\u001b[0;32m/opt/anaconda3/lib/python3.7/site-packages/tensorflow/python/client/session.py\u001b[0m in \u001b[0;36m_run\u001b[0;34m(self, handle, fetches, feed_dict, options, run_metadata)\u001b[0m\n\u001b[1;32m   1189\u001b[0m     \u001b[0;32mif\u001b[0m \u001b[0mfinal_fetches\u001b[0m \u001b[0;32mor\u001b[0m \u001b[0mfinal_targets\u001b[0m \u001b[0;32mor\u001b[0m \u001b[0;34m(\u001b[0m\u001b[0mhandle\u001b[0m \u001b[0;32mand\u001b[0m \u001b[0mfeed_dict_tensor\u001b[0m\u001b[0;34m)\u001b[0m\u001b[0;34m:\u001b[0m\u001b[0;34m\u001b[0m\u001b[0;34m\u001b[0m\u001b[0m\n\u001b[1;32m   1190\u001b[0m       results = self._do_run(handle, final_targets, final_fetches,\n\u001b[0;32m-> 1191\u001b[0;31m                              feed_dict_tensor, options, run_metadata)\n\u001b[0m\u001b[1;32m   1192\u001b[0m     \u001b[0;32melse\u001b[0m\u001b[0;34m:\u001b[0m\u001b[0;34m\u001b[0m\u001b[0;34m\u001b[0m\u001b[0m\n\u001b[1;32m   1193\u001b[0m       \u001b[0mresults\u001b[0m \u001b[0;34m=\u001b[0m \u001b[0;34m[\u001b[0m\u001b[0;34m]\u001b[0m\u001b[0;34m\u001b[0m\u001b[0;34m\u001b[0m\u001b[0m\n",
      "\u001b[0;32m/opt/anaconda3/lib/python3.7/site-packages/tensorflow/python/client/session.py\u001b[0m in \u001b[0;36m_do_run\u001b[0;34m(self, handle, target_list, fetch_list, feed_dict, options, run_metadata)\u001b[0m\n\u001b[1;32m   1367\u001b[0m     \u001b[0;32mif\u001b[0m \u001b[0mhandle\u001b[0m \u001b[0;32mis\u001b[0m \u001b[0;32mNone\u001b[0m\u001b[0;34m:\u001b[0m\u001b[0;34m\u001b[0m\u001b[0;34m\u001b[0m\u001b[0m\n\u001b[1;32m   1368\u001b[0m       return self._do_call(_run_fn, feeds, fetches, targets, options,\n\u001b[0;32m-> 1369\u001b[0;31m                            run_metadata)\n\u001b[0m\u001b[1;32m   1370\u001b[0m     \u001b[0;32melse\u001b[0m\u001b[0;34m:\u001b[0m\u001b[0;34m\u001b[0m\u001b[0;34m\u001b[0m\u001b[0m\n\u001b[1;32m   1371\u001b[0m       \u001b[0;32mreturn\u001b[0m \u001b[0mself\u001b[0m\u001b[0;34m.\u001b[0m\u001b[0m_do_call\u001b[0m\u001b[0;34m(\u001b[0m\u001b[0m_prun_fn\u001b[0m\u001b[0;34m,\u001b[0m \u001b[0mhandle\u001b[0m\u001b[0;34m,\u001b[0m \u001b[0mfeeds\u001b[0m\u001b[0;34m,\u001b[0m \u001b[0mfetches\u001b[0m\u001b[0;34m)\u001b[0m\u001b[0;34m\u001b[0m\u001b[0;34m\u001b[0m\u001b[0m\n",
      "\u001b[0;32m/opt/anaconda3/lib/python3.7/site-packages/tensorflow/python/client/session.py\u001b[0m in \u001b[0;36m_do_call\u001b[0;34m(self, fn, *args)\u001b[0m\n\u001b[1;32m   1392\u001b[0m                     \u001b[0;34m'\\nsession_config.graph_options.rewrite_options.'\u001b[0m\u001b[0;34m\u001b[0m\u001b[0;34m\u001b[0m\u001b[0m\n\u001b[1;32m   1393\u001b[0m                     'disable_meta_optimizer = True')\n\u001b[0;32m-> 1394\u001b[0;31m       \u001b[0;32mraise\u001b[0m \u001b[0mtype\u001b[0m\u001b[0;34m(\u001b[0m\u001b[0me\u001b[0m\u001b[0;34m)\u001b[0m\u001b[0;34m(\u001b[0m\u001b[0mnode_def\u001b[0m\u001b[0;34m,\u001b[0m \u001b[0mop\u001b[0m\u001b[0;34m,\u001b[0m \u001b[0mmessage\u001b[0m\u001b[0;34m)\u001b[0m\u001b[0;34m\u001b[0m\u001b[0;34m\u001b[0m\u001b[0m\n\u001b[0m\u001b[1;32m   1395\u001b[0m \u001b[0;34m\u001b[0m\u001b[0m\n\u001b[1;32m   1396\u001b[0m   \u001b[0;32mdef\u001b[0m \u001b[0m_extend_graph\u001b[0m\u001b[0;34m(\u001b[0m\u001b[0mself\u001b[0m\u001b[0;34m)\u001b[0m\u001b[0;34m:\u001b[0m\u001b[0;34m\u001b[0m\u001b[0;34m\u001b[0m\u001b[0m\n",
      "\u001b[0;31mInvalidArgumentError\u001b[0m: You must feed a value for placeholder tensor 'maps' with dtype float and shape [?,32,32,5]\n\t [[node maps (defined at <ipython-input-18-bc34f4ee8241>:5) ]]\n\nOriginal stack trace for 'maps':\n  File \"/opt/anaconda3/lib/python3.7/runpy.py\", line 193, in _run_module_as_main\n    \"__main__\", mod_spec)\n  File \"/opt/anaconda3/lib/python3.7/runpy.py\", line 85, in _run_code\n    exec(code, run_globals)\n  File \"/opt/anaconda3/lib/python3.7/site-packages/ipykernel_launcher.py\", line 16, in <module>\n    app.launch_new_instance()\n  File \"/opt/anaconda3/lib/python3.7/site-packages/traitlets/config/application.py\", line 845, in launch_instance\n    app.start()\n  File \"/opt/anaconda3/lib/python3.7/site-packages/ipykernel/kernelapp.py\", line 499, in start\n    self.io_loop.start()\n  File \"/opt/anaconda3/lib/python3.7/site-packages/tornado/platform/asyncio.py\", line 132, in start\n    self.asyncio_loop.run_forever()\n  File \"/opt/anaconda3/lib/python3.7/asyncio/base_events.py\", line 538, in run_forever\n    self._run_once()\n  File \"/opt/anaconda3/lib/python3.7/asyncio/base_events.py\", line 1782, in _run_once\n    handle._run()\n  File \"/opt/anaconda3/lib/python3.7/asyncio/events.py\", line 88, in _run\n    self._context.run(self._callback, *self._args)\n  File \"/opt/anaconda3/lib/python3.7/site-packages/tornado/platform/asyncio.py\", line 122, in _handle_events\n    handler_func(fileobj, events)\n  File \"/opt/anaconda3/lib/python3.7/site-packages/tornado/stack_context.py\", line 300, in null_wrapper\n    return fn(*args, **kwargs)\n  File \"/opt/anaconda3/lib/python3.7/site-packages/zmq/eventloop/zmqstream.py\", line 451, in _handle_events\n    self._handle_recv()\n  File \"/opt/anaconda3/lib/python3.7/site-packages/zmq/eventloop/zmqstream.py\", line 480, in _handle_recv\n    self._run_callback(callback, msg)\n  File \"/opt/anaconda3/lib/python3.7/site-packages/zmq/eventloop/zmqstream.py\", line 434, in _run_callback\n    callback(*args, **kwargs)\n  File \"/opt/anaconda3/lib/python3.7/site-packages/tornado/stack_context.py\", line 300, in null_wrapper\n    return fn(*args, **kwargs)\n  File \"/opt/anaconda3/lib/python3.7/site-packages/ipykernel/kernelbase.py\", line 283, in dispatcher\n    return self.dispatch_shell(stream, msg)\n  File \"/opt/anaconda3/lib/python3.7/site-packages/ipykernel/kernelbase.py\", line 233, in dispatch_shell\n    handler(stream, idents, msg)\n  File \"/opt/anaconda3/lib/python3.7/site-packages/ipykernel/kernelbase.py\", line 399, in execute_request\n    user_expressions, allow_stdin)\n  File \"/opt/anaconda3/lib/python3.7/site-packages/ipykernel/ipkernel.py\", line 208, in do_execute\n    res = shell.run_cell(code, store_history=store_history, silent=silent)\n  File \"/opt/anaconda3/lib/python3.7/site-packages/ipykernel/zmqshell.py\", line 537, in run_cell\n    return super(ZMQInteractiveShell, self).run_cell(*args, **kwargs)\n  File \"/opt/anaconda3/lib/python3.7/site-packages/IPython/core/interactiveshell.py\", line 2718, in run_cell\n    interactivity=interactivity, compiler=compiler, result=result)\n  File \"/opt/anaconda3/lib/python3.7/site-packages/IPython/core/interactiveshell.py\", line 2822, in run_ast_nodes\n    if self.run_code(code, result):\n  File \"/opt/anaconda3/lib/python3.7/site-packages/IPython/core/interactiveshell.py\", line 2882, in run_code\n    exec(code_obj, self.user_global_ns, self.user_ns)\n  File \"<ipython-input-18-bc34f4ee8241>\", line 5, in <module>\n    meta_graph_def = tf.saved_model.loader.load(sess, [tf.saved_model.tag_constants.SERVING], model_path)\n  File \"/opt/anaconda3/lib/python3.7/site-packages/tensorflow/python/util/deprecation.py\", line 340, in new_func\n    return func(*args, **kwargs)\n  File \"/opt/anaconda3/lib/python3.7/site-packages/tensorflow/python/saved_model/loader_impl.py\", line 300, in load\n    return loader.load(sess, tags, import_scope, **saver_kwargs)\n  File \"/opt/anaconda3/lib/python3.7/site-packages/tensorflow/python/saved_model/loader_impl.py\", line 453, in load\n    **saver_kwargs)\n  File \"/opt/anaconda3/lib/python3.7/site-packages/tensorflow/python/saved_model/loader_impl.py\", line 383, in load_graph\n    meta_graph_def, import_scope=import_scope, **saver_kwargs)\n  File \"/opt/anaconda3/lib/python3.7/site-packages/tensorflow/python/training/saver.py\", line 1485, in _import_meta_graph_with_return_elements\n    **kwargs))\n  File \"/opt/anaconda3/lib/python3.7/site-packages/tensorflow/python/framework/meta_graph.py\", line 804, in import_scoped_meta_graph_with_return_elements\n    return_elements=return_elements)\n  File \"/opt/anaconda3/lib/python3.7/site-packages/tensorflow/python/util/deprecation.py\", line 538, in new_func\n    return func(*args, **kwargs)\n  File \"/opt/anaconda3/lib/python3.7/site-packages/tensorflow/python/framework/importer.py\", line 405, in import_graph_def\n    producer_op_list=producer_op_list)\n  File \"/opt/anaconda3/lib/python3.7/site-packages/tensorflow/python/framework/importer.py\", line 513, in _import_graph_def_internal\n    _ProcessNewOps(graph)\n  File \"/opt/anaconda3/lib/python3.7/site-packages/tensorflow/python/framework/importer.py\", line 243, in _ProcessNewOps\n    for new_op in graph._add_new_tf_operations(compute_devices=False):  # pylint: disable=protected-access\n  File \"/opt/anaconda3/lib/python3.7/site-packages/tensorflow/python/framework/ops.py\", line 3680, in _add_new_tf_operations\n    for c_op in c_api_util.new_tf_operations(self)\n  File \"/opt/anaconda3/lib/python3.7/site-packages/tensorflow/python/framework/ops.py\", line 3680, in <listcomp>\n    for c_op in c_api_util.new_tf_operations(self)\n  File \"/opt/anaconda3/lib/python3.7/site-packages/tensorflow/python/framework/ops.py\", line 3561, in _create_op_from_tf_operation\n    ret = Operation(c_op, self)\n  File \"/opt/anaconda3/lib/python3.7/site-packages/tensorflow/python/framework/ops.py\", line 1990, in __init__\n    self._traceback = tf_stack.extract_stack()\n"
     ]
    }
   ],
   "source": [
    "#model_path = \"./saved_model/1616739346\"\n",
    "model_path = \"./saved_model/1618313027\"\n",
    "\n",
    "with tf.Session(graph=tf.Graph()) as sess:\n",
    "    meta_graph_def = tf.saved_model.loader.load(sess, [tf.saved_model.tag_constants.SERVING], model_path)\n",
    "    signature = meta_graph_def.signature_def\n",
    "    #print(signature)\n",
    "    x_tensor_name = signature['serving_default'].inputs['images'].name\n",
    "    label_tensor_name = signature['serving_default'].inputs['labels'].name\n",
    "    #print(x_tensor_name)    \n",
    "    logit_tensor_name = signature['serving_default'].outputs['logits'].name\n",
    "    y_tensor_name = signature['serving_default'].outputs['grads'].name\n",
    "    #print(y_tensor_name)\n",
    "    x = sess.graph.get_tensor_by_name(x_tensor_name)\n",
    "    y = sess.graph.get_tensor_by_name(y_tensor_name)\n",
    "    labels = sess.graph.get_tensor_by_name(label_tensor_name)\n",
    "    logits = sess.graph.get_tensor_by_name(logit_tensor_name)\n",
    "    \n",
    "    #print(label.shape)\n",
    "    \n",
    "    grads = sess.run(y, {x: images_np, labels: label})\n",
    "    #print(grads)\n",
    "    #print(grads.shape)\n",
    "    \n",
    "    #print(predictions)\n",
    "    #print(type(predictions))\n",
    "    \n",
    "    #labels_tensor = tf.convert_to_tensor(labels_onehot, dtype=tf.float32)\n",
    "    #logits_tensor = tf.convert_to_tensor(predictions, dtype=tf.float32)\n",
    "    #print(type(logits_tensor))\n",
    "    #labels_tensor = tf.expand_dims(labels_tensor,0)\n",
    "    #print(labels_tensor.shape)\n",
    "    #print(logits_tensor.shape)\n",
    "    \n",
    "    #cross_entropy = tf.losses.softmax_cross_entropy(labels_tensor, logits_tensor)\n",
    "    #print(cross_entropy)\n",
    "    #print(cross_entropy.eval())\n",
    "    \n",
    "    #grad = tf.gradients(cross_entropy, x)\n",
    "    #print(grad)\n",
    "    \n",
    "    perb = tf.sign(grads)  # calculate perturbation\n",
    "    #print(perb.eval())\n",
    "    perturbation = perb.eval()\n",
    "    print(type(perturbation))\n",
    "    \n",
    "    ## Test FGSM ##\n",
    "    \n",
    "    original_prediction = sess.run(logits, {x: images_np, labels: label})\n",
    "    print(\"original: \", original_prediction)\n",
    "    \n",
    "    eps = 0.5\n",
    "    adv_images = images_np + eps * perturbation\n",
    "    prediction = sess.run(logits, {x: adv_images})\n",
    "    print(\"attack: \", prediction)"
   ]
  },
  {
   "cell_type": "code",
   "execution_count": null,
   "metadata": {},
   "outputs": [],
   "source": [
    "#print(images_np)\n",
    "\n",
    "images_squeeze = np.squeeze(images_np)\n",
    "frame1, frame2, frame3, frame4, frame5 = np.split(images_squeeze, indices_or_sections=5, axis=2)\n",
    "print(frame1.shape)"
   ]
  },
  {
   "cell_type": "code",
   "execution_count": null,
   "metadata": {},
   "outputs": [],
   "source": [
    "adv_images_squeeze = np.squeeze(adv_images)\n",
    "adv_frame1, adv_frame2, adv_frame3, adv_frame4, adv_frame5 = np.split(adv_images_squeeze, indices_or_sections=5, axis=2)\n",
    "print(adv_frame1.shape)"
   ]
  },
  {
   "cell_type": "code",
   "execution_count": null,
   "metadata": {},
   "outputs": [],
   "source": [
    "from matplotlib import pyplot as plt\n",
    "\n",
    "plt.imshow(frame1)\n",
    "plt.title('my picture')\n",
    "plt.show()"
   ]
  },
  {
   "cell_type": "code",
   "execution_count": null,
   "metadata": {},
   "outputs": [],
   "source": [
    "plt.imshow(adv_frame1)\n",
    "plt.title('my picture')\n",
    "plt.show()"
   ]
  },
  {
   "cell_type": "code",
   "execution_count": null,
   "metadata": {},
   "outputs": [],
   "source": []
  }
 ],
 "metadata": {
  "kernelspec": {
   "display_name": "Python 3",
   "language": "python",
   "name": "python3"
  },
  "language_info": {
   "codemirror_mode": {
    "name": "ipython",
    "version": 3
   },
   "file_extension": ".py",
   "mimetype": "text/x-python",
   "name": "python",
   "nbconvert_exporter": "python",
   "pygments_lexer": "ipython3",
   "version": "3.7.6"
  }
 },
 "nbformat": 4,
 "nbformat_minor": 4
}
