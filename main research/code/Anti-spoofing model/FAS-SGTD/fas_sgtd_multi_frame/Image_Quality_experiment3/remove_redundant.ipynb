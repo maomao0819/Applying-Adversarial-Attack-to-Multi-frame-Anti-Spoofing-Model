{
 "cells": [
  {
   "cell_type": "markdown",
   "metadata": {},
   "source": [
    "## Run Once"
   ]
  },
  {
   "cell_type": "code",
   "execution_count": 7,
   "metadata": {},
   "outputs": [],
   "source": [
    "import os\n",
    "\n",
    "path = '/home/mike/AAAI2020-RFMetaFAS/Image_Quality_experiment/img_cmp/multi-frame/oulu/original'\n",
    "\n",
    "wanted_list = [0,3,6,9,12]\n",
    "for d2 in sorted(os.listdir(path)):\n",
    "    cnt = 0\n",
    "    for files in sorted(os.listdir(os.path.join(path,d2))):     \n",
    "        if cnt not in wanted_list:\n",
    "            #print(os.path.join(path,d2,files))\n",
    "            os.remove(os.path.join(path,d2,files))\n",
    "        cnt += 1\n",
    "        \n"
   ]
  },
  {
   "cell_type": "code",
   "execution_count": null,
   "metadata": {},
   "outputs": [],
   "source": []
  }
 ],
 "metadata": {
  "kernelspec": {
   "display_name": "Python 3",
   "language": "python",
   "name": "python3"
  },
  "language_info": {
   "codemirror_mode": {
    "name": "ipython",
    "version": 3
   },
   "file_extension": ".py",
   "mimetype": "text/x-python",
   "name": "python",
   "nbconvert_exporter": "python",
   "pygments_lexer": "ipython3",
   "version": "3.6.9"
  }
 },
 "nbformat": 4,
 "nbformat_minor": 4
}
